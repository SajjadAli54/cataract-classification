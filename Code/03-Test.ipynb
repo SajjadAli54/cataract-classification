{
 "cells": [
  {
   "cell_type": "code",
   "execution_count": 7,
   "id": "bbd98c72",
   "metadata": {},
   "outputs": [],
   "source": [
    "import numpy as np\n",
    "import pandas as pd\n",
    "import cv2 as cv\n",
    "import matplotlib.pyplot as plt\n",
    "from skimage.feature import graycomatrix, graycoprops\n",
    "import joblib\n",
    "\n",
    "# Code to extract features from Image using Gray Level Co occurrence Image\n",
    "def get_feature(matrix, name):\n",
    "    feature = graycoprops(matrix, name)\n",
    "    result = np.average(feature)\n",
    "    return result"
   ]
  },
  {
   "cell_type": "code",
   "execution_count": 8,
   "id": "167a3946",
   "metadata": {},
   "outputs": [],
   "source": [
    "def preprocessingImage(image):\n",
    "    test_img = cv.cvtColor(image, cv.COLOR_BGR2RGB)\n",
    "    test_img_gray = cv.cvtColor(test_img, cv.COLOR_RGB2GRAY)\n",
    "    test_img_thresh = cv.adaptiveThreshold(test_img_gray,255,cv.ADAPTIVE_THRESH_GAUSSIAN_C, cv.THRESH_BINARY_INV,11,3)\n",
    "    \n",
    "    cnts = cv.findContours(test_img_thresh, cv.RETR_EXTERNAL, cv.CHAIN_APPROX_SIMPLE)\n",
    "    cnts = cnts[0] if len(cnts) == 2 else cnts[1]\n",
    "    cnts = sorted(cnts, key=cv.contourArea, reverse=True)\n",
    "    \n",
    "    for c in cnts:\n",
    "        x, y, w, h = cv.boundingRect(c)\n",
    "        test_img_ROI = test_img[y:y+h, x:x+w]\n",
    "        break\n",
    "    \n",
    "    test_img_ROI_resize = cv.resize(test_img_ROI, (width, height))\n",
    "    test_img_ROI_resize_gray = cv.cvtColor(test_img_ROI_resize, cv.COLOR_RGB2GRAY)\n",
    "    \n",
    "    return test_img_ROI_resize_gray"
   ]
  },
  {
   "cell_type": "code",
   "execution_count": 9,
   "id": "98013723",
   "metadata": {},
   "outputs": [],
   "source": [
    "indextable = ['dissimilarity', 'contrast', 'homogeneity', 'energy', 'correlation', 'Label']\n",
    "width, height = 400, 400\n",
    "distance = 10\n",
    "teta = 90"
   ]
  },
  {
   "cell_type": "code",
   "execution_count": 36,
   "id": "307dd120",
   "metadata": {},
   "outputs": [],
   "source": [
    "def extract(path):\n",
    "    data_eye = np.zeros((5, 1))\n",
    "    \n",
    "    image = cv.imread(path)\n",
    "    img = preprocessingImage(image)\n",
    "    \n",
    "    glcm = graycomatrix(img, [distance], [teta], levels=256, symmetric=True, normed=True)\n",
    "    \n",
    "    for i in range(len(indextable[:-1])):\n",
    "        features = []\n",
    "        feature = get_feature(glcm, indextable[i])\n",
    "        features.append(feature)\n",
    "        data_eye[i, 0] = features[0]\n",
    "    return pd.DataFrame(np.transpose(data_eye), columns=indextable[:-1])"
   ]
  },
  {
   "cell_type": "code",
   "execution_count": 37,
   "id": "4a1b4543",
   "metadata": {},
   "outputs": [],
   "source": [
    "obj = {\n",
    "    0.0: \"Normal\",\n",
    "    1.0: \"Cataract\",\n",
    "    2.0: \"Glaucoma\",\n",
    "    3.0: 'Retina Disease'\n",
    "}\n",
    "\n",
    "normal = r\"dataset\\1_normal\\NL_001.png\"\n",
    "cataract = r\"dataset\\2_cataract\\cataract_001.png\"\n",
    "glaucoma = r\"dataset\\2_glaucoma\\Glaucoma_001.png\"\n",
    "retina = r\"dataset\\3_retina_disease\\Retina_001.png\"\n",
    "\n",
    "normal_dataset_path = r'dataset\\1_normal\\NL_'\n",
    "cataract_dataset_path = r'dataset\\2_cataract\\cataract_'\n",
    "glaucoma_dataset_path = r'dataset\\2_glaucoma\\Glaucoma_'\n",
    "retina_dataset_path = r'dataset\\3_retina_disease\\Retina_'"
   ]
  },
  {
   "cell_type": "code",
   "execution_count": 58,
   "id": "d0661509",
   "metadata": {},
   "outputs": [],
   "source": [
    "def predict(path):\n",
    "    model = joblib.load(\"model.pkl\")\n",
    "    X = extract(path)\n",
    "    y = model.predict(X)[0]\n",
    "    prob = model.predict_proba(X)[0, int(y)]\n",
    "    return obj[y], prob"
   ]
  },
  {
   "cell_type": "code",
   "execution_count": 59,
   "id": "f5265fb2",
   "metadata": {},
   "outputs": [
    {
     "name": "stdout",
     "output_type": "stream",
     "text": [
      "0.6666666666666666\n"
     ]
    },
    {
     "data": {
      "text/plain": [
       "('Glaucoma', 0.6666666666666666)"
      ]
     },
     "execution_count": 59,
     "metadata": {},
     "output_type": "execute_result"
    }
   ],
   "source": [
    "predict(glaucoma_dataset_path + \"089.png\")"
   ]
  },
  {
   "cell_type": "code",
   "execution_count": 46,
   "id": "26cb114a",
   "metadata": {},
   "outputs": [
    {
     "data": {
      "text/plain": [
       "array([[0.        , 0.        , 0.77777778, 0.22222222]])"
      ]
     },
     "execution_count": 46,
     "metadata": {},
     "output_type": "execute_result"
    }
   ],
   "source": [
    "X = extract(glaucoma_dataset_path + \"013.png\")\n",
    "y = model.predict_proba(X)\n",
    "y"
   ]
  },
  {
   "cell_type": "code",
   "execution_count": 43,
   "id": "192a517a",
   "metadata": {},
   "outputs": [
    {
     "data": {
      "text/plain": [
       "'Cataract'"
      ]
     },
     "execution_count": 43,
     "metadata": {},
     "output_type": "execute_result"
    }
   ],
   "source": [
    "X = extract(cataract_dataset_path + \"089.png\")\n",
    "y = model.predict(X)[0]\n",
    "obj[y]"
   ]
  }
 ],
 "metadata": {
  "kernelspec": {
   "display_name": "Python 3 (ipykernel)",
   "language": "python",
   "name": "python3"
  },
  "language_info": {
   "codemirror_mode": {
    "name": "ipython",
    "version": 3
   },
   "file_extension": ".py",
   "mimetype": "text/x-python",
   "name": "python",
   "nbconvert_exporter": "python",
   "pygments_lexer": "ipython3",
   "version": "3.10.6"
  }
 },
 "nbformat": 4,
 "nbformat_minor": 5
}
